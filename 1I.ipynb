{
 "cells": [
  {
   "cell_type": "code",
   "execution_count": 7,
   "metadata": {},
   "outputs": [],
   "source": [
    "def allpatern_d_dismatch(index,pattern,d):\n",
    "    if index==len(pattern) or d==0:\n",
    "        return [pattern[index:]]\n",
    "    l1=allpatern_d_dismatch(index+1,pattern,d)\n",
    "    l2=allpatern_d_dismatch(index+1,pattern,d-1)\n",
    "\n",
    "    kmer=set()\n",
    "    for l in l1:\n",
    "        kmer.add(pattern[index]+l)\n",
    "    nucleotide=\"AGCT\"    \n",
    "    for l in l2:\n",
    "        for j in nucleotide:\n",
    "            kmer.add(j+l)\n",
    "    return list(kmer)        \n",
    "\n"
   ]
  },
  {
   "cell_type": "code",
   "execution_count": 8,
   "metadata": {},
   "outputs": [
    {
     "data": {
      "text/plain": [
       "['GCG', 'ACT', 'ACG', 'AAG', 'ATG', 'ACA', 'TCG', 'AGG', 'CCG', 'ACC']"
      ]
     },
     "execution_count": 8,
     "metadata": {},
     "output_type": "execute_result"
    }
   ],
   "source": [
    "allpatern_d_dismatch(0,\"ACG\",1)"
   ]
  },
  {
   "cell_type": "code",
   "execution_count": 20,
   "metadata": {},
   "outputs": [],
   "source": [
    "def km(genome,k,d):\n",
    "    dice={}\n",
    "    maxv=0\n",
    "    \n",
    "    for i in range(len(genome)):\n",
    "        stre=genome[i:i+k]\n",
    "        l=[]\n",
    "        for p in range(1,d+1):\n",
    "           l+=allpatern_d_dismatch(0,stre,p)\n",
    "        for j in l:\n",
    "            if j in dice:\n",
    "                dice[j]+=1\n",
    "            else:\n",
    "                dice[j]=1\n",
    "            maxv=max(maxv,dice[j]) \n",
    "    kme=[]         \n",
    "    for key,val in dice.items():\n",
    "        if val==maxv:\n",
    "            kme.append(key) \n",
    "    return kme                     "
   ]
  },
  {
   "cell_type": "code",
   "execution_count": 21,
   "metadata": {},
   "outputs": [
    {
     "data": {
      "text/plain": [
       "['ATGT', 'GATG', 'ATGC']"
      ]
     },
     "execution_count": 21,
     "metadata": {},
     "output_type": "execute_result"
    }
   ],
   "source": [
    "genome=\"ACGTTGCATGTCGCATGATGCATGAGAGCT\"\n",
    "km(genome,4,1)"
   ]
  }
 ],
 "metadata": {
  "kernelspec": {
   "display_name": "Python 3",
   "language": "python",
   "name": "python3"
  },
  "language_info": {
   "codemirror_mode": {
    "name": "ipython",
    "version": 3
   },
   "file_extension": ".py",
   "mimetype": "text/x-python",
   "name": "python",
   "nbconvert_exporter": "python",
   "pygments_lexer": "ipython3",
   "version": "3.11.1"
  },
  "orig_nbformat": 4
 },
 "nbformat": 4,
 "nbformat_minor": 2
}
