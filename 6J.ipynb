{
 "cells": [
  {
   "cell_type": "code",
   "execution_count": 15,
   "metadata": {},
   "outputs": [],
   "source": [
    "def break_genome(input, i, j, k, l):\n",
    "    r = [(i, j), (j, i), (k, l), (l, k)]\n",
    "    replace = []\n",
    "    for p in r:\n",
    "        if p in input:\n",
    "            replace.append(p)\n",
    "            input.remove(p)\n",
    "    input.append((replace[0][0], replace[1][1]))\n",
    "    input.append((replace[1][0], replace[0][1]))\n",
    "    return input\n",
    "\n",
    "\n"
   ]
  },
  {
   "cell_type": "code",
   "execution_count": 16,
   "metadata": {},
   "outputs": [
    {
     "data": {
      "text/plain": [
       "[(2, 4), (7, 5), (6, 8), (3, 1)]"
      ]
     },
     "execution_count": 16,
     "metadata": {},
     "output_type": "execute_result"
    }
   ],
   "source": [
    "input=[(2, 4), (3, 8), (7, 5), (6, 1)]\n",
    "ans=break_genome(input,1,6,3,8)\n",
    "ans"
   ]
  }
 ],
 "metadata": {
  "kernelspec": {
   "display_name": "Python 3",
   "language": "python",
   "name": "python3"
  },
  "language_info": {
   "codemirror_mode": {
    "name": "ipython",
    "version": 3
   },
   "file_extension": ".py",
   "mimetype": "text/x-python",
   "name": "python",
   "nbconvert_exporter": "python",
   "pygments_lexer": "ipython3",
   "version": "3.11.1"
  }
 },
 "nbformat": 4,
 "nbformat_minor": 2
}
