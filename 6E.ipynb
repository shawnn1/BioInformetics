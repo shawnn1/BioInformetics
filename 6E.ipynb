{
 "cells": [
  {
   "cell_type": "code",
   "execution_count": 13,
   "metadata": {},
   "outputs": [],
   "source": [
    "from Bio.Seq import Seq"
   ]
  },
  {
   "cell_type": "code",
   "execution_count": 17,
   "metadata": {},
   "outputs": [],
   "source": [
    "def shared_kmer(s1,s2,k):\n",
    "    m=len(s1)\n",
    "    n=len(s2)\n",
    "    dic={}\n",
    "    ans=[]\n",
    "    for i in range(0,m-k+1):\n",
    "        kmer=s1[i:i+k]\n",
    "        dic[kmer]=i\n",
    "    for j in range(0,n-k+1):\n",
    "        kmer=s2[j:j+k]\n",
    "        rkmer=str(Seq(kmer).reverse_complement())\n",
    "        if kmer in dic.keys():\n",
    "            ans.append([dic[kmer],j])\n",
    "        if rkmer in dic.keys():\n",
    "            ans.append([dic[rkmer],j]) \n",
    "    return ans           \n",
    "\n"
   ]
  },
  {
   "cell_type": "code",
   "execution_count": 19,
   "metadata": {},
   "outputs": [
    {
     "name": "stdout",
     "output_type": "stream",
     "text": [
      "(0, 0)\n",
      "(4, 2)\n",
      "(0, 4)\n",
      "(6, 6)\n"
     ]
    }
   ],
   "source": [
    "ans=shared_kmer(\"AAACTCATC\",\"TTTCAAATC\",3)\n",
    "for a in ans:\n",
    "    print(tuple(a))\n",
    " "
   ]
  }
 ],
 "metadata": {
  "kernelspec": {
   "display_name": "Python 3",
   "language": "python",
   "name": "python3"
  },
  "language_info": {
   "codemirror_mode": {
    "name": "ipython",
    "version": 3
   },
   "file_extension": ".py",
   "mimetype": "text/x-python",
   "name": "python",
   "nbconvert_exporter": "python",
   "pygments_lexer": "ipython3",
   "version": "3.11.1"
  }
 },
 "nbformat": 4,
 "nbformat_minor": 2
}
