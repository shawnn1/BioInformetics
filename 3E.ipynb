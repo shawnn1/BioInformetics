{
 "cells": [
  {
   "cell_type": "code",
   "execution_count": 1,
   "metadata": {},
   "outputs": [],
   "source": [
    "def debruijin(patterns):\n",
    "    dic={}\n",
    "    for p in patterns:\n",
    "        pre=p[:-1]\n",
    "        suf=p[1:]\n",
    "        if pre  not in dic.keys():\n",
    "            dic[pre]=[]\n",
    "        dic[pre].append(suf)\n",
    "    return dic    \n"
   ]
  },
  {
   "cell_type": "code",
   "execution_count": 4,
   "metadata": {},
   "outputs": [
    {
     "name": "stdout",
     "output_type": "stream",
     "text": [
      "GAG->AGG\n",
      "CAG->AGG,AGG\n",
      "GGG->GGG,GGA\n",
      "AGG->GGG\n",
      "GGA->GAG\n"
     ]
    }
   ],
   "source": [
    "patterns = [\"GAGG\", \"CAGG\", \"GGGG\", \"GGGA\", \"CAGG\", \"AGGG\", \"GGAG\"]\n",
    "result = debruijin(patterns)\n",
    "for key,val in result.items():\n",
    "    print(f\"{key}->{','.join(val)}\")"
   ]
  }
 ],
 "metadata": {
  "kernelspec": {
   "display_name": "Python 3",
   "language": "python",
   "name": "python3"
  },
  "language_info": {
   "codemirror_mode": {
    "name": "ipython",
    "version": 3
   },
   "file_extension": ".py",
   "mimetype": "text/x-python",
   "name": "python",
   "nbconvert_exporter": "python",
   "pygments_lexer": "ipython3",
   "version": "3.11.1"
  }
 },
 "nbformat": 4,
 "nbformat_minor": 2
}
