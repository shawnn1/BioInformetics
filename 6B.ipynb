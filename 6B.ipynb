{
 "cells": [
  {
   "cell_type": "code",
   "execution_count": 7,
   "metadata": {},
   "outputs": [],
   "source": [
    "def num_break(input):\n",
    "    per = [int(x) for x in input.replace(\"(\", \"\").replace(\")\", \"\").split()]\n",
    "    cnt = 0\n",
    "    for i in range(1, len(per)):\n",
    "        if per[i - 1] > 0 and per[i] < 0:\n",
    "            cnt += 1\n",
    "        elif per[i - 1] < 0 and per[i] > 0:\n",
    "            cnt += 1\n",
    "    return len(per) - cnt - 2  \n",
    "            \n",
    "    "
   ]
  },
  {
   "cell_type": "code",
   "execution_count": 8,
   "metadata": {},
   "outputs": [
    {
     "data": {
      "text/plain": [
       "8"
      ]
     },
     "execution_count": 8,
     "metadata": {},
     "output_type": "execute_result"
    }
   ],
   "source": [
    "input=\"(+3 +4 +5 -12 -8 -7 -6 +1 +2 +10 +9 -11 +13 +14)\"\n",
    "ans=num_break(input)\n",
    "ans"
   ]
  }
 ],
 "metadata": {
  "kernelspec": {
   "display_name": "Python 3",
   "language": "python",
   "name": "python3"
  },
  "language_info": {
   "codemirror_mode": {
    "name": "ipython",
    "version": 3
   },
   "file_extension": ".py",
   "mimetype": "text/x-python",
   "name": "python",
   "nbconvert_exporter": "python",
   "pygments_lexer": "ipython3",
   "version": "3.11.1"
  }
 },
 "nbformat": 4,
 "nbformat_minor": 2
}
