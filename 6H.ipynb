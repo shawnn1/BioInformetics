{
 "cells": [
  {
   "cell_type": "code",
   "execution_count": 10,
   "metadata": {},
   "outputs": [],
   "source": [
    "def cromosom(cromo):\n",
    "    l=[int(x) for x in cromo.replace('(','').replace(')','').split()]\n",
    "    ans=[]\n",
    "    for li in l:\n",
    "        if li>0:\n",
    "            ans.append(2*li-1)\n",
    "            ans.append(2*li)\n",
    "        else:\n",
    "            ans.append(-2*li)\n",
    "            ans.append(-2*li-1)\n",
    "    return ans   \n",
    "        "
   ]
  },
  {
   "cell_type": "code",
   "execution_count": 11,
   "metadata": {},
   "outputs": [],
   "source": [
    "def color(input):\n",
    "    ans=set()\n",
    "    for i in input:\n",
    "        chro=cromosom(i)\n",
    "        for j in range(len(chro)):\n",
    "            ans.add((chro[(2*j+1)%len(chro)],chro[(2*j+2)%len(chro)]))\n",
    "    return ans        "
   ]
  },
  {
   "cell_type": "code",
   "execution_count": 12,
   "metadata": {},
   "outputs": [
    {
     "data": {
      "text/plain": [
       "'(11, 7), (2, 4), (5, 1), (8, 9), (3, 6), (10, 12)'"
      ]
     },
     "execution_count": 12,
     "metadata": {},
     "output_type": "execute_result"
    }
   ],
   "source": [
    "input=\"(+1 -2 -3)(+4 +5 -6)\"\n",
    "input=input.replace(\")(\",\")*(\")\n",
    "input=input.split('*')\n",
    "colo=color(input)\n",
    "coloedges = \", \".join(f\"({x}, {y})\" for x, y in colo)\n",
    "coloedges\n"
   ]
  }
 ],
 "metadata": {
  "kernelspec": {
   "display_name": "Python 3",
   "language": "python",
   "name": "python3"
  },
  "language_info": {
   "codemirror_mode": {
    "name": "ipython",
    "version": 3
   },
   "file_extension": ".py",
   "mimetype": "text/x-python",
   "name": "python",
   "nbconvert_exporter": "python",
   "pygments_lexer": "ipython3",
   "version": "3.11.1"
  }
 },
 "nbformat": 4,
 "nbformat_minor": 2
}
