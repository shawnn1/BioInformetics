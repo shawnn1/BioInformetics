{
 "cells": [
  {
   "cell_type": "code",
   "execution_count": 1,
   "metadata": {},
   "outputs": [],
   "source": [
    "def freq(text,k):\n",
    "    freq_arr=[0]*(4**k)\n",
    "    dic={'A':0,'C':1,'G':2,'T':3}\n",
    "    kmer_val=0\n",
    "    for i in range(k):\n",
    "       kmer_val=kmer_val*4+dic[text[i]]\n",
    "    freq_arr[kmer_val]+=1\n",
    "    for i in range (1,len(text)-k+1) :\n",
    "        kmer_val=4*(kmer_val-(dic[text[i-1]]*(4**(k-1))))+dic[text[i+k-1]]\n",
    "        freq_arr[kmer_val]+=1\n",
    "    return freq_arr      "
   ]
  },
  {
   "cell_type": "code",
   "execution_count": 2,
   "metadata": {},
   "outputs": [
    {
     "data": {
      "text/plain": [
       "[2, 1, 0, 0, 0, 0, 2, 2, 1, 2, 1, 0, 0, 1, 1, 0]"
      ]
     },
     "execution_count": 2,
     "metadata": {},
     "output_type": "execute_result"
    }
   ],
   "source": [
    "genome=\"ACGCGGCTCTGAAA\"\n",
    "freq(genome,2)"
   ]
  }
 ],
 "metadata": {
  "kernelspec": {
   "display_name": "Python 3",
   "language": "python",
   "name": "python3"
  },
  "language_info": {
   "codemirror_mode": {
    "name": "ipython",
    "version": 3
   },
   "file_extension": ".py",
   "mimetype": "text/x-python",
   "name": "python",
   "nbconvert_exporter": "python",
   "pygments_lexer": "ipython3",
   "version": "3.11.1"
  },
  "orig_nbformat": 4
 },
 "nbformat": 4,
 "nbformat_minor": 2
}
