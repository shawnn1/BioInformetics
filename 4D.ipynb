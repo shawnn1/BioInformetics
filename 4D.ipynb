{
 "cells": [
  {
   "cell_type": "code",
   "execution_count": 7,
   "metadata": {},
   "outputs": [
    {
     "name": "stdout",
     "output_type": "stream",
     "text": [
      "5\n"
     ]
    }
   ],
   "source": [
    "def total_peptide(total, masses):\n",
    "  m = len(masses)\n",
    "  dp = [0] * (total+1)\n",
    "  dp[0] = 1\n",
    "\n",
    "  for i in range(total+1):\n",
    "    cursum = 0\n",
    "    for j in range(m):\n",
    "      if i - masses[j] >= 0:\n",
    "        cursum += dp[i-masses[j]]\n",
    "    dp[i] += cursum\n",
    "  return dp[total]\n",
    "\n",
    "if __name__ == \"__main__\":\n",
    "  total = 7\n",
    "  masses = [2,3,4]\n",
    "  \n",
    "  # with open('rosalind_ba4d.txt') as file:\n",
    "  #   f = file.read().strip().split()\n",
    "  #   total = int(f[0])\n",
    "\n",
    "  total_ways = total_peptide(total, masses)\n",
    "  print(total_ways)"
   ]
  }
 ],
 "metadata": {
  "kernelspec": {
   "display_name": "Python 3",
   "language": "python",
   "name": "python3"
  },
  "language_info": {
   "codemirror_mode": {
    "name": "ipython",
    "version": 3
   },
   "file_extension": ".py",
   "mimetype": "text/x-python",
   "name": "python",
   "nbconvert_exporter": "python",
   "pygments_lexer": "ipython3",
   "version": "3.11.1"
  }
 },
 "nbformat": 4,
 "nbformat_minor": 2
}
