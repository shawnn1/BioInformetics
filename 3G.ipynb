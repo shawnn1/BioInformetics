{
 "cells": [
  {
   "cell_type": "code",
   "execution_count": 1,
   "metadata": {},
   "outputs": [],
   "source": [
    "\n",
    "def eulerian_path(graph):\n",
    "    in_degrees = {}\n",
    "    out_degrees = {}\n",
    "\n",
    "    for node, neighbors in graph.items():\n",
    "        out_degrees[node] = out_degrees.get(node, 0) + len(neighbors)\n",
    "        for neighbor in neighbors:\n",
    "            in_degrees[neighbor] = in_degrees.get(neighbor, 0) + 1\n",
    "\n",
    "    start_node = None\n",
    "    end_node = None\n",
    "\n",
    "    for key, val in out_degrees.items():\n",
    "        if key not in in_degrees or in_degrees[key] < val:\n",
    "            start_node = key\n",
    "            break\n",
    "\n",
    "    for key, val in in_degrees.items():\n",
    "        if key not in out_degrees or out_degrees[key] < val:\n",
    "            end_node = key\n",
    "            break\n",
    "\n",
    "    return start_node\n",
    "\n",
    "\n",
    "\n",
    "\n"
   ]
  },
  {
   "cell_type": "code",
   "execution_count": 9,
   "metadata": {},
   "outputs": [
    {
     "data": {
      "text/plain": [
       "'6->7->8->9->6->3->0->2->1->3->4'"
      ]
     },
     "execution_count": 9,
     "metadata": {},
     "output_type": "execute_result"
    }
   ],
   "source": [
    "def dfs(graph, start, s):\n",
    "    if start in graph:\n",
    "        neighbors = list(graph[start])  \n",
    "        for neighbor in neighbors:\n",
    "            if neighbor in graph[start]:\n",
    "                graph[start].remove(neighbor)\n",
    "                s = dfs(graph, neighbor, s)\n",
    "\n",
    "    s += str(start)\n",
    "    return s\n",
    "\n",
    "\n",
    "\n",
    "graph = {\n",
    "    0: [2],\n",
    "    1: [3],\n",
    "    2: [1],\n",
    "    3: [0, 4],\n",
    "    6: [3, 7],\n",
    "    7: [8],\n",
    "    8: [9],\n",
    "    9: [6]\n",
    "}\n",
    "start=eulerian_path(graph)\n",
    "\n",
    "# Starting DFS from node 6\n",
    "s = dfs(graph, start, \"\")\n",
    "st=s[::-1]\n",
    "ans=st[0]\n",
    "for i in st[1:]:\n",
    "    ans+=\"->\"+i\n",
    "ans    \n",
    "\n"
   ]
  }
 ],
 "metadata": {
  "kernelspec": {
   "display_name": "Python 3",
   "language": "python",
   "name": "python3"
  },
  "language_info": {
   "codemirror_mode": {
    "name": "ipython",
    "version": 3
   },
   "file_extension": ".py",
   "mimetype": "text/x-python",
   "name": "python",
   "nbconvert_exporter": "python",
   "pygments_lexer": "ipython3",
   "version": "3.11.1"
  }
 },
 "nbformat": 4,
 "nbformat_minor": 2
}
