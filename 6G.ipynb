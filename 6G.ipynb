{
 "cells": [
  {
   "cell_type": "code",
   "execution_count": 5,
   "metadata": {},
   "outputs": [],
   "source": [
    "\n",
    "def genome(input):\n",
    "    ans = []\n",
    "    cro = [int(x) for x in input.replace('(', '').replace(')', '').split()]\n",
    "    i = 0\n",
    "    \n",
    "    while i < len(cro):\n",
    "        a = cro[i]\n",
    "        b = cro[i + 1]\n",
    "        \n",
    "        if a < b:\n",
    "            ans.append(b // 2)\n",
    "        else:\n",
    "            ans.append(-(a // 2))\n",
    "        \n",
    "        i += 2\n",
    "    \n",
    "    return ans           "
   ]
  },
  {
   "cell_type": "code",
   "execution_count": 7,
   "metadata": {},
   "outputs": [
    {
     "name": "stdout",
     "output_type": "stream",
     "text": [
      "(+1 -2 -3 +4)\n"
     ]
    }
   ],
   "source": [
    "input=\"(1 2 4 3 6 5 7 8)\"\n",
    "\n",
    "ans=genome(input)\n",
    "print(\"(\"+\" \".join(map(lambda x: f\"+{abs(x)}\" if x>0 else f\"{x}\",ans))+\")\")"
   ]
  }
 ],
 "metadata": {
  "kernelspec": {
   "display_name": "Python 3",
   "language": "python",
   "name": "python3"
  },
  "language_info": {
   "codemirror_mode": {
    "name": "ipython",
    "version": 3
   },
   "file_extension": ".py",
   "mimetype": "text/x-python",
   "name": "python",
   "nbconvert_exporter": "python",
   "pygments_lexer": "ipython3",
   "version": "3.11.1"
  }
 },
 "nbformat": 4,
 "nbformat_minor": 2
}
