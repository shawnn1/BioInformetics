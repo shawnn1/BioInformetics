{
 "cells": [
  {
   "cell_type": "code",
   "execution_count": 16,
   "metadata": {},
   "outputs": [],
   "source": []
  },
  {
   "cell_type": "code",
   "execution_count": 1,
   "metadata": {},
   "outputs": [],
   "source": [
    "def freg(text,k):\n",
    "    n=len(text)\n",
    "    l={}\n",
    "    maxc=0\n",
    "    kmer=[]\n",
    "    for i in range(n-k+1):\n",
    "        stri=text[i:i+k]\n",
    "        if stri in l:\n",
    "            l[stri]+=1\n",
    "        else:\n",
    "            l[stri]=1\n",
    "        maxc=max(maxc,l[stri])\n",
    "    for key,val in l.items():\n",
    "        if val==maxc :\n",
    "            kmer.append(key)   \n",
    "    return kmer        \n"
   ]
  },
  {
   "cell_type": "code",
   "execution_count": 2,
   "metadata": {},
   "outputs": [
    {
     "data": {
      "text/plain": [
       "'GCAT CATG'"
      ]
     },
     "execution_count": 2,
     "metadata": {},
     "output_type": "execute_result"
    }
   ],
   "source": [
    "kmer= freg(\"ACGTTGCATGTCGCATGATGCATGAGAGCT\",4)\n",
    "result=\" \".join(kmer)\n",
    "result"
   ]
  }
 ],
 "metadata": {
  "kernelspec": {
   "display_name": "Python 3",
   "language": "python",
   "name": "python3"
  },
  "language_info": {
   "codemirror_mode": {
    "name": "ipython",
    "version": 3
   },
   "file_extension": ".py",
   "mimetype": "text/x-python",
   "name": "python",
   "nbconvert_exporter": "python",
   "pygments_lexer": "ipython3",
   "version": "3.11.1"
  },
  "orig_nbformat": 4
 },
 "nbformat": 4,
 "nbformat_minor": 2
}
