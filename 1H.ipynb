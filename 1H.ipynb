{
 "cells": [
  {
   "cell_type": "code",
   "execution_count": 1,
   "metadata": {},
   "outputs": [],
   "source": [
    "def hamming_distance(genome1,genome2):\n",
    "    n1=len(genome1)\n",
    "    n2=len(genome2)\n",
    "    if n1>=n2:\n",
    "        n=n2\n",
    "        n1=n1-n2\n",
    "    else:\n",
    "        n=n1\n",
    "        n1=n2-n1\n",
    "    dis=0    \n",
    "    for i in range(n):\n",
    "        if genome1[i]!=genome2[i]:\n",
    "            dis+=1\n",
    "    return dis+n1        \n"
   ]
  },
  {
   "cell_type": "code",
   "execution_count": 4,
   "metadata": {},
   "outputs": [],
   "source": [
    "def d_mismatch_pattern_position(genome,pattern,d):\n",
    "    p=len(pattern)\n",
    "    n=len(genome)\n",
    "    pos=[]\n",
    "    for i in range(n-p+1):\n",
    "        s=genome[i:i+p]\n",
    "        if hamming_distance(s,pattern)<=d:\n",
    "            pos.append(str(i))\n",
    "    return pos        \n",
    "\n",
    "\n"
   ]
  },
  {
   "cell_type": "code",
   "execution_count": 5,
   "metadata": {},
   "outputs": [
    {
     "data": {
      "text/plain": [
       "'6 7 26 27 78'"
      ]
     },
     "execution_count": 5,
     "metadata": {},
     "output_type": "execute_result"
    }
   ],
   "source": [
    "genome=\"CGCCCGAATCCAGAACGCATTCCCATATTTCGGGACCACTGGCCTCCACGGTACGGACGTCAATCAAATGCCTAGCGGCTTGTGGTTTCTCCTACGCTCC\"\n",
    "pattern=\"ATTCTGGA\"\n",
    "position=d_mismatch_pattern_position(genome,pattern,3)\n",
    "result=\" \".join(position)\n",
    "result"
   ]
  }
 ],
 "metadata": {
  "kernelspec": {
   "display_name": "Python 3",
   "language": "python",
   "name": "python3"
  },
  "language_info": {
   "codemirror_mode": {
    "name": "ipython",
    "version": 3
   },
   "file_extension": ".py",
   "mimetype": "text/x-python",
   "name": "python",
   "nbconvert_exporter": "python",
   "pygments_lexer": "ipython3",
   "version": "3.11.1"
  },
  "orig_nbformat": 4
 },
 "nbformat": 4,
 "nbformat_minor": 2
}
