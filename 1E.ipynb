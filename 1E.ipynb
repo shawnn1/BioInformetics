{
 "cells": [
  {
   "cell_type": "code",
   "execution_count": 3,
   "metadata": {},
   "outputs": [],
   "source": [
    "def least_kmer(text,k,n,cnt):\n",
    "    clumps=set()\n",
    "\n",
    "    \n",
    "    for i in range(len(text)-n+1):\n",
    "        window=text[i:i+n]\n",
    "        l={}\n",
    "        for j in range(len(window)-k+1):\n",
    "           st=text[j:j+k]\n",
    "           if st not in l:\n",
    "              l[st]=0\n",
    "           l[st]+=1\n",
    "           if l[st]>=cnt:\n",
    "              clumps.add(st)\n",
    "              \n",
    "    return list(clumps)           \n",
    "\n"
   ]
  },
  {
   "cell_type": "code",
   "execution_count": 4,
   "metadata": {},
   "outputs": [
    {
     "data": {
      "text/plain": [
       "['GAAGA', 'CGACA']"
      ]
     },
     "execution_count": 4,
     "metadata": {},
     "output_type": "execute_result"
    }
   ],
   "source": [
    "kmers=least_kmer(\"CGGACTCGACAGATGTGAAGAAATGTGAAGACTGAGTGAAGAGAAGAGGAAACACGACACGACATTGCGACATAATGTACGAATGTAATGTGCCTATGGC\",5,75,4)\n",
    "kmers"
   ]
  },
  {
   "cell_type": "code",
   "execution_count": 13,
   "metadata": {},
   "outputs": [
    {
     "data": {
      "text/plain": [
       "100"
      ]
     },
     "execution_count": 13,
     "metadata": {},
     "output_type": "execute_result"
    }
   ],
   "source": [
    "st2=\"CGGACTCGACAGATGTGAAGAAATGTGAAGACTGAGTGAAGAGAAGAGGAAACACGACACGACATTGCGACATAATGTACGAATGTAATGTGCCTATGGC\"\n",
    "len(st2)"
   ]
  },
  {
   "cell_type": "markdown",
   "metadata": {},
   "source": []
  },
  {
   "cell_type": "code",
   "execution_count": 5,
   "metadata": {},
   "outputs": [
    {
     "name": "stdout",
     "output_type": "stream",
     "text": [
      "AATGT GAAGA CGACA\n"
     ]
    },
    {
     "data": {
      "text/plain": [
       "100"
      ]
     },
     "execution_count": 5,
     "metadata": {},
     "output_type": "execute_result"
    }
   ],
   "source": [
    "def find_clumps(genome, k, L, t):\n",
    "    clumps = set()\n",
    "    \n",
    "    for i in range(len(genome) - L + 1):\n",
    "        window = genome[i:i+L]\n",
    "        kmer_counts = {}\n",
    "        \n",
    "        for j in range(len(window) - k + 1):\n",
    "            kmer = window[j:j+k]\n",
    "            \n",
    "            if kmer not in kmer_counts:\n",
    "                kmer_counts[kmer] = 0\n",
    "            kmer_counts[kmer] += 1\n",
    "            \n",
    "            if kmer_counts[kmer] >= t:\n",
    "                clumps.add(kmer)\n",
    "    \n",
    "    return list(clumps)\n",
    "\n",
    "# Example usage:\n",
    "genome = \"CGGACTCGACAGATGTGAAGAAATGTGAAGACTGAGTGAAGAGAAGAGGAAACACGACACGACATTGCGACATAATGTACGAATGTAATGTGCCTATGGC\"\n",
    "k = 5\n",
    "L = 75\n",
    "t = 4\n",
    "result = find_clumps(genome, k, L, t)\n",
    "print(\" \".join(result))\n",
    "len(genome)\n"
   ]
  },
  {
   "cell_type": "code",
   "execution_count": 1,
   "metadata": {},
   "outputs": [],
   "source": [
    "\n",
    "def clump(genome,k,L,t):\n",
    "    n=len(genome)\n",
    "    clumps=set()\n",
    "    for i in range (n-L+1):\n",
    "        window=genome[i:i+L]\n",
    "        l={}\n",
    "        for j in range(len(window)-k+1):\n",
    "            stri=window[j:j+k]\n",
    "            if stri in l:\n",
    "                l[stri]+=1\n",
    "            else:\n",
    "                l[stri]=1\n",
    "            if l[stri]>=t:\n",
    "                clumps.add(stri);\n",
    "    return list(clumps)        "
   ]
  },
  {
   "cell_type": "code",
   "execution_count": 3,
   "metadata": {},
   "outputs": [
    {
     "name": "stdout",
     "output_type": "stream",
     "text": [
      "GAAGA AATGT CGACA\n"
     ]
    },
    {
     "data": {
      "text/plain": [
       "100"
      ]
     },
     "execution_count": 3,
     "metadata": {},
     "output_type": "execute_result"
    }
   ],
   "source": [
    "genome = \"CGGACTCGACAGATGTGAAGAAATGTGAAGACTGAGTGAAGAGAAGAGGAAACACGACACGACATTGCGACATAATGTACGAATGTAATGTGCCTATGGC\"\n",
    "k = 5\n",
    "L = 75\n",
    "t = 4\n",
    "result = clump(genome, k, L, t)\n",
    "print(\" \".join(result))\n",
    "len(genome)"
   ]
  }
 ],
 "metadata": {
  "kernelspec": {
   "display_name": "Python 3",
   "language": "python",
   "name": "python3"
  },
  "language_info": {
   "codemirror_mode": {
    "name": "ipython",
    "version": 3
   },
   "file_extension": ".py",
   "mimetype": "text/x-python",
   "name": "python",
   "nbconvert_exporter": "python",
   "pygments_lexer": "ipython3",
   "version": "3.11.1"
  },
  "orig_nbformat": 4
 },
 "nbformat": 4,
 "nbformat_minor": 2
}
