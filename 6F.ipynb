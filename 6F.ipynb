{
 "cells": [
  {
   "cell_type": "code",
   "execution_count": 11,
   "metadata": {},
   "outputs": [],
   "source": [
    "def cromosom(cromo):\n",
    "    l=[int(x) for x in cromo.replace('(','').replace(')','').split()]\n",
    "    ans=[]\n",
    "    for li in l:\n",
    "        if li>0:\n",
    "            ans.append(2*li-1)\n",
    "            ans.append(2*li)\n",
    "        else:\n",
    "            ans.append(-2*li)\n",
    "            ans.append(-2*li-1)\n",
    "    return ans   \n",
    "        "
   ]
  },
  {
   "cell_type": "code",
   "execution_count": 12,
   "metadata": {},
   "outputs": [
    {
     "name": "stdout",
     "output_type": "stream",
     "text": [
      "(1 2 4 3 6 5 7 8)\n"
     ]
    }
   ],
   "source": [
    "input = \"(+1 -2 -3 +4)\"\n",
    "ans = cromosom(input)\n",
    "print(\"(\" + \" \".join(map(str, ans)) + \")\")"
   ]
  },
  {
   "cell_type": "code",
   "execution_count": null,
   "metadata": {},
   "outputs": [],
   "source": []
  }
 ],
 "metadata": {
  "kernelspec": {
   "display_name": "Python 3",
   "language": "python",
   "name": "python3"
  },
  "language_info": {
   "codemirror_mode": {
    "name": "ipython",
    "version": 3
   },
   "file_extension": ".py",
   "mimetype": "text/x-python",
   "name": "python",
   "nbconvert_exporter": "python",
   "pygments_lexer": "ipython3",
   "version": "3.11.1"
  }
 },
 "nbformat": 4,
 "nbformat_minor": 2
}
