{
 "cells": [
  {
   "cell_type": "code",
   "execution_count": 1,
   "metadata": {},
   "outputs": [],
   "source": [
    "def hamming_distance(genome1,genome2):\n",
    "    n1=len(genome1)\n",
    "    n2=len(genome2)\n",
    "    if n1>=n2:\n",
    "        n=n2\n",
    "        n1=n1-n2\n",
    "    else:\n",
    "        n=n1\n",
    "        n1=n2-n1\n",
    "    dis=0    \n",
    "    for i in range(n):\n",
    "        if genome1[i]!=genome2[i]:\n",
    "            dis+=1\n",
    "    return dis+n1        \n",
    "\n"
   ]
  },
  {
   "cell_type": "code",
   "execution_count": 2,
   "metadata": {},
   "outputs": [
    {
     "data": {
      "text/plain": [
       "3"
      ]
     },
     "execution_count": 2,
     "metadata": {},
     "output_type": "execute_result"
    }
   ],
   "source": [
    "string1 = \"GGGCCGTTGGT\"\n",
    "string2 = \"GGACCGTTGAC\"\n",
    "result = hamming_distance(string1, string2)\n",
    "result"
   ]
  }
 ],
 "metadata": {
  "kernelspec": {
   "display_name": "Python 3",
   "language": "python",
   "name": "python3"
  },
  "language_info": {
   "codemirror_mode": {
    "name": "ipython",
    "version": 3
   },
   "file_extension": ".py",
   "mimetype": "text/x-python",
   "name": "python",
   "nbconvert_exporter": "python",
   "pygments_lexer": "ipython3",
   "version": "3.11.1"
  },
  "orig_nbformat": 4
 },
 "nbformat": 4,
 "nbformat_minor": 2
}
