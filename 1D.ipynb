{
 "cells": [
  {
   "cell_type": "code",
   "execution_count": 2,
   "metadata": {},
   "outputs": [],
   "source": [
    "def freq_word_positions(text,pattern):\n",
    "    n=len(text)\n",
    "    k=len(pattern)\n",
    "    l=[]\n",
    "    for i in range(0,n-k+1):\n",
    "        stre=text[i:i+k]\n",
    "        if stre==pattern:\n",
    "            l.append(str(i))\n",
    "    return l"
   ]
  },
  {
   "cell_type": "code",
   "execution_count": 3,
   "metadata": {},
   "outputs": [
    {
     "data": {
      "text/plain": [
       "'1 3 9'"
      ]
     },
     "execution_count": 3,
     "metadata": {},
     "output_type": "execute_result"
    }
   ],
   "source": [
    "l=freq_word_positions(\"GATATATGCATATACTT\",\"ATAT\")\n",
    "stre=\" \".join(l)\n",
    "stre\n"
   ]
  },
  {
   "cell_type": "code",
   "execution_count": 4,
   "metadata": {},
   "outputs": [
    {
     "name": "stdout",
     "output_type": "stream",
     "text": [
      "1 3 9\n"
     ]
    }
   ],
   "source": [
    "def freq_word_positions(text, pattern):\n",
    "    positions = []\n",
    "    pattern_len = len(pattern)\n",
    "    \n",
    "    for i in range(len(text) - pattern_len + 1):\n",
    "        if text[i:i + pattern_len] == pattern:\n",
    "            positions.append(str(i))\n",
    "    \n",
    "    return positions\n",
    "\n",
    "text = \"GATATATGCATATACTT\"\n",
    "pattern = \"ATAT\"\n",
    "positions = freq_word_positions(text, pattern)\n",
    "result_str = \" \".join(positions)\n",
    "\n",
    "print(result_str)\n",
    "\n"
   ]
  }
 ],
 "metadata": {
  "kernelspec": {
   "display_name": "Python 3",
   "language": "python",
   "name": "python3"
  },
  "language_info": {
   "codemirror_mode": {
    "name": "ipython",
    "version": 3
   },
   "file_extension": ".py",
   "mimetype": "text/x-python",
   "name": "python",
   "nbconvert_exporter": "python",
   "pygments_lexer": "ipython3",
   "version": "3.11.1"
  },
  "orig_nbformat": 4
 },
 "nbformat": 4,
 "nbformat_minor": 2
}
