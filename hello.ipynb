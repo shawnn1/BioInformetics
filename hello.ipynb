{
 "cells": [
  {
   "cell_type": "code",
   "execution_count": 1,
   "metadata": {},
   "outputs": [
    {
     "name": "stdout",
     "output_type": "stream",
     "text": [
      "shawn\n"
     ]
    }
   ],
   "source": [
    "print(\"shawn\")"
   ]
  },
  {
   "cell_type": "code",
   "execution_count": 2,
   "metadata": {},
   "outputs": [
    {
     "data": {
      "text/plain": [
       "(1331, -241, 428370, 0.693384223918575, 0, 7783447819102312890625)"
      ]
     },
     "execution_count": 2,
     "metadata": {},
     "output_type": "execute_result"
    }
   ],
   "source": [
    "a,b = 545,786\n",
    "a+b, a-b, a*b, a/b, a//b, a**8"
   ]
  },
  {
   "cell_type": "code",
   "execution_count": 7,
   "metadata": {},
   "outputs": [
    {
     "data": {
      "text/plain": [
       "11"
      ]
     },
     "execution_count": 7,
     "metadata": {},
     "output_type": "execute_result"
    }
   ],
   "source": [
    "sentence=\"my,name,is,shawn\"\n",
    "words=sentence.split(',')\n",
    "words\n",
    "s=\" \".join(words)\n",
    "s\n",
    "pos=s.find(\"sha\")\n",
    "pos"
   ]
  },
  {
   "cell_type": "code",
   "execution_count": 15,
   "metadata": {},
   "outputs": [
    {
     "data": {
      "text/plain": [
       "'awne'"
      ]
     },
     "execution_count": 15,
     "metadata": {},
     "output_type": "execute_result"
    }
   ],
   "source": [
    "str=\"shawne\"\n",
    "str[-4:]"
   ]
  },
  {
   "cell_type": "code",
   "execution_count": 16,
   "metadata": {},
   "outputs": [
    {
     "data": {
      "text/plain": [
       "range(0, 7)"
      ]
     },
     "execution_count": 16,
     "metadata": {},
     "output_type": "execute_result"
    }
   ],
   "source": [
    "range(7)"
   ]
  },
  {
   "cell_type": "code",
   "execution_count": 3,
   "metadata": {},
   "outputs": [
    {
     "name": "stdout",
     "output_type": "stream",
     "text": [
      "ACGCT\n"
     ]
    }
   ],
   "source": [
    "# Open the file in read mode\n",
    "with open('input.txt', 'r') as file:\n",
    "    # Read the contents of the file\n",
    "    file_contents = file.read()\n",
    "\n",
    "# Print the contents of the file\n",
    "print(file_contents)\n",
    "with open('input.txt','r') as file:\n",
    "    file_contents=file.read()\n",
    "with open('output.txt','w') as file:\n",
    "      file.write(file_contents)    \n"
   ]
  },
  {
   "cell_type": "code",
   "execution_count": 25,
   "metadata": {},
   "outputs": [
    {
     "data": {
      "text/plain": [
       "Seq('TAGCTAGCTAGCTAGCTAGCTAGCCGATCGATCGATCGATCGATCGAT')"
      ]
     },
     "execution_count": 25,
     "metadata": {},
     "output_type": "execute_result"
    }
   ],
   "source": [
    "from Bio import SeqIO\n",
    "\n",
    "# Open and read a FASTA file\n",
    "with open(\"sequences.fasta\", \"r\") as fasta_file:\n",
    "    sequences = list(SeqIO.parse(fasta_file, \"fasta\"))\n",
    "   \n",
    "seq2=\"\"\n",
    "# Access sequence records\n",
    "for record in sequences:\n",
    "    seqe=record.seq \n",
    "    seq2+=seqe  \n",
    "seq2.reverse_complement()   \n",
    "\n"
   ]
  }
 ],
 "metadata": {
  "kernelspec": {
   "display_name": "Python 3",
   "language": "python",
   "name": "python3"
  },
  "language_info": {
   "codemirror_mode": {
    "name": "ipython",
    "version": 3
   },
   "file_extension": ".py",
   "mimetype": "text/x-python",
   "name": "python",
   "nbconvert_exporter": "python",
   "pygments_lexer": "ipython3",
   "version": "3.11.1"
  },
  "orig_nbformat": 4
 },
 "nbformat": 4,
 "nbformat_minor": 2
}
