{
 "cells": [
  {
   "cell_type": "code",
   "execution_count": 1,
   "metadata": {},
   "outputs": [],
   "source": [
    "def convolution(li):\n",
    "    ans=[]\n",
    "    for i in range(len(li)-1):\n",
    "        for j in range(i+1,len(li)):\n",
    "            ans.append(li[j]-li[i])\n",
    "    return ans        "
   ]
  },
  {
   "cell_type": "code",
   "execution_count": 8,
   "metadata": {},
   "outputs": [
    {
     "name": "stdout",
     "output_type": "stream",
     "text": [
      "137 186 323 49 186 137\n"
     ]
    }
   ],
   "source": [
    "ans_str = ' '.join(map(str, ans))\n",
    "\n",
    "print(ans_str)"
   ]
  },
  {
   "cell_type": "code",
   "execution_count": null,
   "metadata": {},
   "outputs": [],
   "source": [
    "# Assuming you have your list pat\n",
    "pat = [647, 614, 428, 883, 1788, 2072, 652, 1634, 1949, 2175, 1813, 819, 895, 746, 1985, 1703, 1184, 2156, 2190, 1484, 1271, 163, 1896, 1575, 1028, 231, 1188, 947, 593, 1085, 1685, 137, 1689, 1989, 2077, 1207, 1321, 1675, 291, 689, 128, 432, 1193, 194, 1119, 1542, 1649, 1557, 113, 1547, 669, 1030, 654, 226, 349, 1875, 728, 836, 2117, 1538, 1320, 1865, 664, 1257, 1614, 810, 156, 1547, 1899, 924, 561, 869, 579, 755, 1199, 163, 2038, 1389, 1375, 1232, 2012, 406, 541, 114, 1762, 884, 2175, 1812, 71, 800, 983, 761, 463, 1871, 1434, 2113, 1916, 633, 250, 1503, 1385, 765, 1940, 1897, 1127, 2003, 1021, 2053, 300, 1056, 1169, 2102, 2140, 57, 782, 1597, 2175, 918, 1575, 1932, 815, 2166, 310, 2109, 1742, 2190, 519, 543, 618, 982, 1115, 300, 465, 1639, 1467, 1070, 1110, 1847, 456, 1710, 265, 103, 893, 957, 2117, 1275, 1724, 982, 1379, 1104, 1410, 1056, 1433, 1218, 914, 186, 1247, 2232, 870, 1685, 1840, 451, 1032, 275, 1389, 137, 1670, 371, 404, 1434, 1651, 1006, 520, 869, 565, 1624, 304, 929, 813, 491, 1247, 2200, 517, 742, 1865, 2003, 1689, 486, 114, 1419, 515, 1346, 801, 186, 618, 314, 756, 1852, 1410, 1547, 657, 1321, 1760, 551, 1374, 113, 293, 950, 1233, 893, 1561, 1817, 792, 1946, 1752, 1502, 387, 679, 1656, 1408, 87, 438, 728, 628, 190, 438, 2147, 1184, 1490, 1845, 1488, 1046, 1273, 2189, 1001, 1193, 600, 147, 354, 241, 357, 2046, 1784, 1297, 257, 458, 1356, 378, 300, 128, 0, 1240, 1353, 2062, 1071, 270, 928, 2216, 407, 2028, 619, 1119, 566, 756, 999, 1134, 2033, 2189, 2303, 1493, 201, 1511, 1993, 128, 1954, 2246, 1110, 1063, 428, 318, 2010, 756, 1646, 1786, 1738, 1521\n"
   ]
  },
  {
   "cell_type": "code",
   "execution_count": 10,
   "metadata": {},
   "outputs": [
    {
     "name": "stdout",
     "output_type": "stream",
     "text": [
      "137 137 186 186 323 49\n"
     ]
    }
   ],
   "source": [
    "def spectral_convolution(spectrum):\n",
    "    differences = []\n",
    "    \n",
    "    # Step 2: Calculate positive differences\n",
    "    for i in range(len(spectrum)):\n",
    "        for j in range(i + 1, len(spectrum)):\n",
    "            differences.append(abs(spectrum[i] - spectrum[j]))\n",
    "\n",
    "    # Step 3: Count multiplicities\n",
    "    multiplicity_count = {}\n",
    "    for diff in differences:\n",
    "        multiplicity_count[diff] = multiplicity_count.get(diff, 0) + 1\n",
    "\n",
    "    # Step 4: Output elements in decreasing order of their multiplicities\n",
    "    result = sorted(multiplicity_count.keys(), key=lambda x: multiplicity_count[x], reverse=True)\n",
    "\n",
    "    # Flatten the result list based on multiplicities\n",
    "    final_result = [element for element in result for _ in range(multiplicity_count[element])]\n",
    "\n",
    "    return final_result\n",
    "\n",
    "# Sample Dataset\n",
    "spectrum = [0, 137, 186, 323]\n",
    "\n",
    "# Sample Output\n",
    "result = spectral_convolution(spectrum)\n",
    "print(\" \".join(map(str, result)))\n"
   ]
  },
  {
   "cell_type": "code",
   "execution_count": 13,
   "metadata": {},
   "outputs": [
    {
     "name": "stdout",
     "output_type": "stream",
     "text": [
      "[12, 23, 34]\n"
     ]
    }
   ],
   "source": [
    "with open(\"input.txt\",\"r\") as file:\n",
    "    # input = file.readlines()\n",
    "    d = [int(i) for i in file.readline().split(\",\")]\n",
    "\n",
    "    print(d)\n",
    "    #dnas = [text.replace(\"\\n\",\"\") for text in file.readlines()]"
   ]
  }
 ],
 "metadata": {
  "kernelspec": {
   "display_name": "Python 3",
   "language": "python",
   "name": "python3"
  },
  "language_info": {
   "codemirror_mode": {
    "name": "ipython",
    "version": 3
   },
   "file_extension": ".py",
   "mimetype": "text/x-python",
   "name": "python",
   "nbconvert_exporter": "python",
   "pygments_lexer": "ipython3",
   "version": "3.11.1"
  }
 },
 "nbformat": 4,
 "nbformat_minor": 2
}
