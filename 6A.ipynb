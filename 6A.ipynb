{
 "cells": [
  {
   "cell_type": "code",
   "execution_count": 15,
   "metadata": {},
   "outputs": [],
   "source": [
    "def rev_neg(per,i,j):\n",
    "    return per[:i]+list(-x for x in reversed(per[i:j+1]))+per[j+1:]"
   ]
  },
  {
   "cell_type": "code",
   "execution_count": 16,
   "metadata": {},
   "outputs": [],
   "source": [
    "def permut(input):\n",
    "    output=[]\n",
    "    list_permut=[ int(x) for x in input.replace('(',\"\").replace(')',\"\").split()]\n",
    "    for i in range(len(list_permut)):\n",
    "        if abs(list_permut[i])!=i+1:\n",
    "            ind=list_permut.index(i+1 if i+1 in list_permut else -(i+1))\n",
    "            list_permut=rev_neg(list_permut,i,ind)\n",
    "        output.append(list_permut.copy())\n",
    "        if(list_permut[i]<0):\n",
    "                list_permut[i]=-list_permut[i]\n",
    "                output.append(list_permut.copy())    \n",
    "            \n",
    "        \n",
    "    return output            \n",
    "\n",
    "             "
   ]
  },
  {
   "cell_type": "code",
   "execution_count": 19,
   "metadata": {},
   "outputs": [
    {
     "name": "stdout",
     "output_type": "stream",
     "text": [
      "(-1 -4 +3 +5 -2)\n",
      "(+1 -4 +3 +5 -2)\n",
      "(+1 +2 -5 -3 +4)\n",
      "(+1 +2 +3 +5 +4)\n",
      "(+1 +2 +3 -4 -5)\n",
      "(+1 +2 +3 +4 -5)\n",
      "(+1 +2 +3 +4 -5)\n",
      "(+1 +2 +3 +4 +5)\n"
     ]
    }
   ],
   "source": [
    "ans=permut(\"(-3 +4 +1 +5 -2)\")\n",
    "for a in ans:\n",
    "    print(\"(\"+\" \".join(map(lambda x: f\"+{abs(x)}\" if x>0 else f\"{x}\",a))+\")\")\n"
   ]
  }
 ],
 "metadata": {
  "kernelspec": {
   "display_name": "Python 3",
   "language": "python",
   "name": "python3"
  },
  "language_info": {
   "codemirror_mode": {
    "name": "ipython",
    "version": 3
   },
   "file_extension": ".py",
   "mimetype": "text/x-python",
   "name": "python",
   "nbconvert_exporter": "python",
   "pygments_lexer": "ipython3",
   "version": "3.11.1"
  }
 },
 "nbformat": 4,
 "nbformat_minor": 2
}
