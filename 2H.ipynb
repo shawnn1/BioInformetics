{
 "cells": [
  {
   "cell_type": "code",
   "execution_count": 1,
   "metadata": {},
   "outputs": [],
   "source": [
    "\n",
    "def hamming(dna, p):\n",
    "  cnt = 0\n",
    "  for i in range(len(p)):\n",
    "    if not(dna[i] == p[i]):\n",
    "      cnt += 1\n",
    "  return cnt"
   ]
  },
  {
   "cell_type": "code",
   "execution_count": 4,
   "metadata": {},
   "outputs": [],
   "source": [
    "def mindis(dna,pat):\n",
    "    total=0\n",
    "    k=len(pat)\n",
    "    for seq in dna:\n",
    "        cur=float('inf')\n",
    "        for i in range(len(seq)-k+1):\n",
    "            cur=min(cur,hamming(pat,seq[i:i+k]))\n",
    "        total+=cur  \n",
    "    return total     \n"
   ]
  },
  {
   "cell_type": "code",
   "execution_count": 5,
   "metadata": {},
   "outputs": [
    {
     "data": {
      "text/plain": [
       "5"
      ]
     },
     "execution_count": 5,
     "metadata": {},
     "output_type": "execute_result"
    }
   ],
   "source": [
    "pat=\"AAA\"\n",
    "dna=[\"TTACCTTAAC\", \"GATATCTGTC\", \"ACGGCGTTCG\", \"CCCTAAAGAG\", \"CGTCAGAGGT\"]\n",
    "ans=mindis(dna,pat)\n",
    "ans"
   ]
  }
 ],
 "metadata": {
  "kernelspec": {
   "display_name": "Python 3",
   "language": "python",
   "name": "python3"
  },
  "language_info": {
   "codemirror_mode": {
    "name": "ipython",
    "version": 3
   },
   "file_extension": ".py",
   "mimetype": "text/x-python",
   "name": "python",
   "nbconvert_exporter": "python",
   "pygments_lexer": "ipython3",
   "version": "3.11.1"
  }
 },
 "nbformat": 4,
 "nbformat_minor": 2
}
