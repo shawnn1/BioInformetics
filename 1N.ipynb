{
 "cells": [
  {
   "cell_type": "code",
   "execution_count": 3,
   "metadata": {},
   "outputs": [],
   "source": [
    "def allgenome(index, genome, d):\n",
    "    nucleotides = \"AGCT\"\n",
    "    \n",
    "    if index == len(genome) or d == 0:\n",
    "        return [genome[index:]]\n",
    "    \n",
    "    l1 = allgenome(index + 1, genome, d)\n",
    "    l2 = allgenome(index + 1, genome, d - 1)\n",
    "    \n",
    "    clumps = set()\n",
    "    \n",
    "    for i in l1:\n",
    "        clumps.add(genome[index] + i)\n",
    "    \n",
    "    for i in nucleotides:\n",
    "        for j in l2:\n",
    "            clumps.add(i+j)\n",
    "    \n",
    "    return list(clumps)\n",
    "\n",
    "   "
   ]
  },
  {
   "cell_type": "code",
   "execution_count": 4,
   "metadata": {},
   "outputs": [
    {
     "name": "stdout",
     "output_type": "stream",
     "text": [
      "['AGG', 'ACC', 'ATG', 'CCG', 'ACT', 'ACA', 'GCG', 'ACG', 'TCG', 'AAG']\n"
     ]
    }
   ],
   "source": [
    "d=1\n",
    "result=[]\n",
    "for i in range(1,d+1): \n",
    "  result+=allgenome(0, \"ACG\", i)\n",
    "print(result)"
   ]
  }
 ],
 "metadata": {
  "kernelspec": {
   "display_name": "Python 3",
   "language": "python",
   "name": "python3"
  },
  "language_info": {
   "codemirror_mode": {
    "name": "ipython",
    "version": 3
   },
   "file_extension": ".py",
   "mimetype": "text/x-python",
   "name": "python",
   "nbconvert_exporter": "python",
   "pygments_lexer": "ipython3",
   "version": "3.11.1"
  },
  "orig_nbformat": 4
 },
 "nbformat": 4,
 "nbformat_minor": 2
}
