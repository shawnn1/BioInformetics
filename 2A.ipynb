{
 "cells": [
  {
   "cell_type": "code",
   "execution_count": 1,
   "metadata": {},
   "outputs": [],
   "source": [
    "all_kmers=[]\n",
    "def find_all_kmer(kmer,k):\n",
    "    if k==0:\n",
    "        all_kmers.append(kmer)\n",
    "        return\n",
    "    for i in 'AGCT':\n",
    "        find_all_kmer(kmer+i,k-1)    \n"
   ]
  },
  {
   "cell_type": "code",
   "execution_count": 2,
   "metadata": {},
   "outputs": [
    {
     "data": {
      "text/plain": [
       "['AAA',\n",
       " 'AAG',\n",
       " 'AAC',\n",
       " 'AAT',\n",
       " 'AGA',\n",
       " 'AGG',\n",
       " 'AGC',\n",
       " 'AGT',\n",
       " 'ACA',\n",
       " 'ACG',\n",
       " 'ACC',\n",
       " 'ACT',\n",
       " 'ATA',\n",
       " 'ATG',\n",
       " 'ATC',\n",
       " 'ATT',\n",
       " 'GAA',\n",
       " 'GAG',\n",
       " 'GAC',\n",
       " 'GAT',\n",
       " 'GGA',\n",
       " 'GGG',\n",
       " 'GGC',\n",
       " 'GGT',\n",
       " 'GCA',\n",
       " 'GCG',\n",
       " 'GCC',\n",
       " 'GCT',\n",
       " 'GTA',\n",
       " 'GTG',\n",
       " 'GTC',\n",
       " 'GTT',\n",
       " 'CAA',\n",
       " 'CAG',\n",
       " 'CAC',\n",
       " 'CAT',\n",
       " 'CGA',\n",
       " 'CGG',\n",
       " 'CGC',\n",
       " 'CGT',\n",
       " 'CCA',\n",
       " 'CCG',\n",
       " 'CCC',\n",
       " 'CCT',\n",
       " 'CTA',\n",
       " 'CTG',\n",
       " 'CTC',\n",
       " 'CTT',\n",
       " 'TAA',\n",
       " 'TAG',\n",
       " 'TAC',\n",
       " 'TAT',\n",
       " 'TGA',\n",
       " 'TGG',\n",
       " 'TGC',\n",
       " 'TGT',\n",
       " 'TCA',\n",
       " 'TCG',\n",
       " 'TCC',\n",
       " 'TCT',\n",
       " 'TTA',\n",
       " 'TTG',\n",
       " 'TTC',\n",
       " 'TTT']"
      ]
     },
     "execution_count": 2,
     "metadata": {},
     "output_type": "execute_result"
    }
   ],
   "source": [
    "find_all_kmer(\"\",3)\n",
    "all_kmers"
   ]
  },
  {
   "cell_type": "code",
   "execution_count": 2,
   "metadata": {},
   "outputs": [],
   "source": [
    "def hamming(seq,dna):\n",
    "    cnt=0;\n",
    "    for i in range(len(seq)):\n",
    "        if seq[i]!=dna[i]:\n",
    "            cnt=cnt+1\n",
    "    return cnt        \n",
    "\n"
   ]
  },
  {
   "cell_type": "code",
   "execution_count": 3,
   "metadata": {},
   "outputs": [],
   "source": [
    "def motif(Dna,k,d):\n",
    "    l=set()\n",
    "\n",
    "    for kmer in all_kmers:\n",
    "        founded=True\n",
    "        for dna in Dna:\n",
    "            found=False\n",
    "            for i in range(len(dna)-k+1):\n",
    "                seq=dna[i:i+k]\n",
    "                if hamming(seq,kmer)<=d:\n",
    "                    found=True\n",
    "                    break\n",
    "            founded=founded&found\n",
    "            if not founded:\n",
    "                break\n",
    "        if founded:\n",
    "            l.add(kmer)\n",
    "    return list(l);                \n",
    "\n"
   ]
  },
  {
   "cell_type": "code",
   "execution_count": 4,
   "metadata": {},
   "outputs": [],
   "source": [
    "dna=[\"TACGCTGCTTGGGGGTACTGCTGAT\",\n",
    "\"GTATGTATTGTGATAACTGTGCAGT\",\n",
    "\"ACCCGACAGTGCTTCTAGTGCCGCT\",\n",
    "\"CGCACGGGTAGTTAAGGCTGTAGTG\",\n",
    "\"AACTTCACCAGCCTGTAGTGTTCCG\",\n",
    "\"TACTGCAATGGGGGCTAAAACCTCG\",\n",
    "\"TTCCCCCCTTTAGTGCGCTAAAGGT\",\n",
    "\"TATTGCCATACTTACGGACGGTAAT\",\n",
    "\"ACGAATCGTATTGATGCACCTACTG\",\n",
    "\"GCGGTCTGTTTAATGTCTTGTATGC\"]\n",
    "l=motif(dna,5,1)\n"
   ]
  },
  {
   "cell_type": "code",
   "execution_count": 5,
   "metadata": {},
   "outputs": [
    {
     "data": {
      "text/plain": [
       "[]"
      ]
     },
     "execution_count": 5,
     "metadata": {},
     "output_type": "execute_result"
    }
   ],
   "source": [
    "l"
   ]
  }
 ],
 "metadata": {
  "kernelspec": {
   "display_name": "Python 3",
   "language": "python",
   "name": "python3"
  },
  "language_info": {
   "codemirror_mode": {
    "name": "ipython",
    "version": 3
   },
   "file_extension": ".py",
   "mimetype": "text/x-python",
   "name": "python",
   "nbconvert_exporter": "python",
   "pygments_lexer": "ipython3",
   "version": "3.11.1"
  },
  "orig_nbformat": 4
 },
 "nbformat": 4,
 "nbformat_minor": 2
}
