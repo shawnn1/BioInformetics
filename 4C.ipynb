{
 "cells": [
  {
   "cell_type": "code",
   "execution_count": 2,
   "metadata": {},
   "outputs": [
    {
     "name": "stdout",
     "output_type": "stream",
     "text": [
      "Requirement already satisfied: biopython in c:\\users\\user\\appdata\\local\\programs\\python\\python311\\lib\\site-packages (1.81)\n",
      "Requirement already satisfied: numpy in c:\\users\\user\\appdata\\local\\programs\\python\\python311\\lib\\site-packages (from biopython) (1.24.1)\n"
     ]
    },
    {
     "name": "stderr",
     "output_type": "stream",
     "text": [
      "\n",
      "[notice] A new release of pip available: 22.3.1 -> 23.3.1\n",
      "[notice] To update, run: python.exe -m pip install --upgrade pip\n"
     ]
    }
   ],
   "source": []
  },
  {
   "cell_type": "code",
   "execution_count": 8,
   "metadata": {},
   "outputs": [],
   "source": [
    "def mass(acid):\n",
    "    dic = {\n",
    "      'G': 57,\n",
    "      'A': 71,\n",
    "      'S': 87,\n",
    "      'P': 97,\n",
    "      'V': 99,\n",
    "      'T': 101,\n",
    "      'C': 103,\n",
    "      'I': 113,\n",
    "      'N': 114,\n",
    "      'D': 115,\n",
    "      'K': 128,\n",
    "      'Q': 128,\n",
    "      'E': 129,\n",
    "      'M': 131,\n",
    "      'H': 137,\n",
    "      'F': 147,\n",
    "      'R': 156,\n",
    "      'Y': 163,\n",
    "      'W': 186,\n",
    "      'L': 113,\n",
    "  }\n",
    "    ans=[0]\n",
    "    m=len(acid)\n",
    "    total=0\n",
    "    for i in range(len(acid)):\n",
    "        sum=0\n",
    "        for k in range(m-1):\n",
    "            sum+=dic[acid[(i+k)%m]]\n",
    "            ans.append(sum)\n",
    "    \n",
    "    for i in acid:\n",
    "        total+=dic[i]\n",
    "    ans.append(total)\n",
    "    return ans        \n",
    "\n",
    "       "
   ]
  },
  {
   "cell_type": "code",
   "execution_count": 11,
   "metadata": {},
   "outputs": [
    {
     "name": "stdout",
     "output_type": "stream",
     "text": [
      "[0, 113, 114, 128, 129, 227, 241, 243, 257, 355, 356, 370, 371, 484]\n"
     ]
    }
   ],
   "source": [
    "l=mass('NEQL')\n",
    "print(sorted(l))"
   ]
  }
 ],
 "metadata": {
  "kernelspec": {
   "display_name": "Python 3",
   "language": "python",
   "name": "python3"
  },
  "language_info": {
   "codemirror_mode": {
    "name": "ipython",
    "version": 3
   },
   "file_extension": ".py",
   "mimetype": "text/x-python",
   "name": "python",
   "nbconvert_exporter": "python",
   "pygments_lexer": "ipython3",
   "version": "3.11.1"
  }
 },
 "nbformat": 4,
 "nbformat_minor": 2
}
