{
 "cells": [
  {
   "cell_type": "code",
   "execution_count": 5,
   "metadata": {},
   "outputs": [],
   "source": [
    "def allpatern_d_dismatch(index,pattern,d):\n",
    "    if index==len(pattern) or d==0:\n",
    "        return [pattern[index:]]\n",
    "    l1=allpatern_d_dismatch(index+1,pattern,d)\n",
    "    l2=allpatern_d_dismatch(index+1,pattern,d-1)\n",
    "    kmer=set()\n",
    "    for l in l1:\n",
    "        kmer.add(pattern[index]+l)\n",
    "    nucleotide=\"AGCT\"    \n",
    "    for l in l2:\n",
    "        for j in nucleotide:\n",
    "            kmer.add(j+l)\n",
    "    return list(kmer)        \n"
   ]
  },
  {
   "cell_type": "code",
   "execution_count": 6,
   "metadata": {},
   "outputs": [],
   "source": [
    "def rev(genome):\n",
    "    stri=\"\"\n",
    "    dice={'A':'T','T':'A','C':'G','G':'C'}\n",
    "    for i in genome:\n",
    "        stri=dice[i]+stri\n",
    "    return stri    "
   ]
  },
  {
   "cell_type": "code",
   "execution_count": 7,
   "metadata": {},
   "outputs": [
    {
     "data": {
      "text/plain": [
       "'CGT'"
      ]
     },
     "execution_count": 7,
     "metadata": {},
     "output_type": "execute_result"
    }
   ],
   "source": [
    "rev(\"ACG\")"
   ]
  },
  {
   "cell_type": "code",
   "execution_count": 10,
   "metadata": {},
   "outputs": [],
   "source": [
    "def km(genome,k,d):\n",
    "    dice={}\n",
    "    maxv=0\n",
    "    \n",
    "    for i in range(len(genome)):\n",
    "        stre=genome[i:i+k]\n",
    "        l=[]\n",
    "        for p in range(1,d+1):\n",
    "           l+=allpatern_d_dismatch(0,stre,p)\n",
    "        for j in l:\n",
    "            if j in dice:\n",
    "                dice[j]+=1\n",
    "            else:\n",
    "                dice[j]=1\n",
    "             \n",
    "    dice2={}         \n",
    "    for key,val in dice.items():\n",
    "       strt=rev(key)\n",
    "       if strt in dice:\n",
    "           val2=dice[strt]\n",
    "       else:\n",
    "           val2=0\n",
    "       dice2[key+'#'+strt]=val+val2\n",
    "       maxv=max(maxv,val+val2) \n",
    "    kmer=set()\n",
    "    for key,val in dice2.items():\n",
    "        kmer2=[]\n",
    "        if val==maxv:\n",
    "            kmer2=key.split('#')\n",
    "        for i in kmer2:\n",
    "            kmer.add(i)    \n",
    "            \n",
    "\n",
    "    return list(kmer)                 "
   ]
  },
  {
   "cell_type": "code",
   "execution_count": 11,
   "metadata": {},
   "outputs": [
    {
     "data": {
      "text/plain": [
       "['ACAT', 'ATGT']"
      ]
     },
     "execution_count": 11,
     "metadata": {},
     "output_type": "execute_result"
    }
   ],
   "source": [
    "km(\"ACGTTGCATGTCGCATGATGCATGAGAGCT\",4,1)"
   ]
  }
 ],
 "metadata": {
  "kernelspec": {
   "display_name": "Python 3",
   "language": "python",
   "name": "python3"
  },
  "language_info": {
   "codemirror_mode": {
    "name": "ipython",
    "version": 3
   },
   "file_extension": ".py",
   "mimetype": "text/x-python",
   "name": "python",
   "nbconvert_exporter": "python",
   "pygments_lexer": "ipython3",
   "version": "3.11.1"
  },
  "orig_nbformat": 4
 },
 "nbformat": 4,
 "nbformat_minor": 2
}
