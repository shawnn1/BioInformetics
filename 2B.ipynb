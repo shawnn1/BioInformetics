{
 "cells": [
  {
   "cell_type": "code",
   "execution_count": null,
   "metadata": {},
   "outputs": [],
   "source": [
    "\n"
   ]
  },
  {
   "cell_type": "code",
   "execution_count": 17,
   "metadata": {},
   "outputs": [
    {
     "data": {
      "text/plain": [
       "['AAA',\n",
       " 'AAG',\n",
       " 'AAC',\n",
       " 'AAT',\n",
       " 'AGA',\n",
       " 'AGG',\n",
       " 'AGC',\n",
       " 'AGT',\n",
       " 'ACA',\n",
       " 'ACG',\n",
       " 'ACC',\n",
       " 'ACT',\n",
       " 'ATA',\n",
       " 'ATG',\n",
       " 'ATC',\n",
       " 'ATT',\n",
       " 'GAA',\n",
       " 'GAG',\n",
       " 'GAC',\n",
       " 'GAT',\n",
       " 'GGA',\n",
       " 'GGG',\n",
       " 'GGC',\n",
       " 'GGT',\n",
       " 'GCA',\n",
       " 'GCG',\n",
       " 'GCC',\n",
       " 'GCT',\n",
       " 'GTA',\n",
       " 'GTG',\n",
       " 'GTC',\n",
       " 'GTT',\n",
       " 'CAA',\n",
       " 'CAG',\n",
       " 'CAC',\n",
       " 'CAT',\n",
       " 'CGA',\n",
       " 'CGG',\n",
       " 'CGC',\n",
       " 'CGT',\n",
       " 'CCA',\n",
       " 'CCG',\n",
       " 'CCC',\n",
       " 'CCT',\n",
       " 'CTA',\n",
       " 'CTG',\n",
       " 'CTC',\n",
       " 'CTT',\n",
       " 'TAA',\n",
       " 'TAG',\n",
       " 'TAC',\n",
       " 'TAT',\n",
       " 'TGA',\n",
       " 'TGG',\n",
       " 'TGC',\n",
       " 'TGT',\n",
       " 'TCA',\n",
       " 'TCG',\n",
       " 'TCC',\n",
       " 'TCT',\n",
       " 'TTA',\n",
       " 'TTG',\n",
       " 'TTC',\n",
       " 'TTT']"
      ]
     },
     "execution_count": 17,
     "metadata": {},
     "output_type": "execute_result"
    }
   ],
   "source": []
  },
  {
   "cell_type": "code",
   "execution_count": null,
   "metadata": {},
   "outputs": [],
   "source": []
  },
  {
   "cell_type": "code",
   "execution_count": 13,
   "metadata": {},
   "outputs": [],
   "source": [
    "def find_all(k, kmer, all_kmer):\n",
    "    if k == 0:\n",
    "        all_kmer.append(kmer)\n",
    "        return all_kmer\n",
    "    for i in 'AGCT':\n",
    "        all_kmer = find_all(k - 1, kmer + i, all_kmer)  # Fix: create a copy of all_kmer\n",
    "    return all_kmer\n",
    "\n",
    "\n",
    "\n",
    "def hamming_distance(dna, p):\n",
    "  cnt = 0\n",
    "  for i in range(len(p)):\n",
    "    if not(dna[i] == p[i]):\n",
    "      cnt += 1\n",
    "  return cnt\n",
    "\n",
    "def median(dna, k):\n",
    "    all_kmer = find_all(k, \"\", [])\n",
    "    total_sum = float('inf')\n",
    "    ans = \"\"\n",
    "\n",
    "    for pattern in all_kmer:\n",
    "        current_sum = 0\n",
    "        for seq in dna:\n",
    "            sequence_sum = float('inf')\n",
    "            for i in range(len(seq) - k + 1):\n",
    "                sequence_sum = min(sequence_sum, hamming_distance(pattern, seq[i:i + k]))\n",
    "            current_sum += sequence_sum\n",
    "        if current_sum < total_sum:\n",
    "            ans = pattern\n",
    "            total_sum = current_sum\n",
    "\n",
    "    return ans\n",
    "\n",
    "\n"
   ]
  },
  {
   "cell_type": "code",
   "execution_count": 15,
   "metadata": {},
   "outputs": [
    {
     "data": {
      "text/plain": [
       "'ACG'"
      ]
     },
     "execution_count": 15,
     "metadata": {},
     "output_type": "execute_result"
    }
   ],
   "source": [
    "k = 3\n",
    "dnas = [\n",
    "\"AAATTGACGCAT\",\n",
    "\"GACGACCACGTT\",\n",
    "\"CGTCAGCGCCTG\",\n",
    "\"GCTGAGCACCGG\",\n",
    "\"AGTACGGGACAG\"\n",
    "]\n",
    "ans=median(dnas,3)\n",
    "ans"
   ]
  }
 ],
 "metadata": {
  "kernelspec": {
   "display_name": "Python 3",
   "language": "python",
   "name": "python3"
  },
  "language_info": {
   "codemirror_mode": {
    "name": "ipython",
    "version": 3
   },
   "file_extension": ".py",
   "mimetype": "text/x-python",
   "name": "python",
   "nbconvert_exporter": "python",
   "pygments_lexer": "ipython3",
   "version": "3.11.1"
  }
 },
 "nbformat": 4,
 "nbformat_minor": 2
}
